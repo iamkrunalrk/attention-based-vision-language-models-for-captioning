{
 "cells": [
  {
   "cell_type": "markdown",
   "metadata": {},
   "source": [
    "# Video Captioning"
   ]
  },
  {
   "cell_type": "code",
   "execution_count": 1,
   "metadata": {},
   "outputs": [],
   "source": [
    "#Import important libraries\n",
    "import numpy as np\n",
    "import pandas as pd\n",
    "import os\n",
    "import cv2\n",
    "import matplotlib.pyplot as plt\n",
    "import math\n",
    "from preprocess_videos import load_df, preprocess_df, get_final_list, extract_frames, select_videos, load_video_frames, extract_features, extract_features_resnet50, extract_features_inception_v3, view_frames\n",
    "from enc_dec_models import basic_enc_dec"
   ]
  },
  {
   "cell_type": "markdown",
   "metadata": {},
   "source": [
    "# Preprocessing"
   ]
  },
  {
   "cell_type": "code",
   "execution_count": 2,
   "metadata": {},
   "outputs": [
    {
     "data": {
      "text/html": [
       "<div>\n",
       "<style scoped>\n",
       "    .dataframe tbody tr th:only-of-type {\n",
       "        vertical-align: middle;\n",
       "    }\n",
       "\n",
       "    .dataframe tbody tr th {\n",
       "        vertical-align: top;\n",
       "    }\n",
       "\n",
       "    .dataframe thead th {\n",
       "        text-align: right;\n",
       "    }\n",
       "</style>\n",
       "<table border=\"1\" class=\"dataframe\">\n",
       "  <thead>\n",
       "    <tr style=\"text-align: right;\">\n",
       "      <th></th>\n",
       "      <th>VideoID</th>\n",
       "      <th>Start</th>\n",
       "      <th>End</th>\n",
       "      <th>WorkerID</th>\n",
       "      <th>Source</th>\n",
       "      <th>AnnotationTime</th>\n",
       "      <th>Language</th>\n",
       "      <th>Description</th>\n",
       "    </tr>\n",
       "  </thead>\n",
       "  <tbody>\n",
       "    <tr>\n",
       "      <th>0</th>\n",
       "      <td>mv89psg6zh4</td>\n",
       "      <td>33</td>\n",
       "      <td>46</td>\n",
       "      <td>588702</td>\n",
       "      <td>unverified</td>\n",
       "      <td>55</td>\n",
       "      <td>Slovene</td>\n",
       "      <td>Papagaj se umiva pod tekočo vodo v lijaku.</td>\n",
       "    </tr>\n",
       "    <tr>\n",
       "      <th>1</th>\n",
       "      <td>mv89psg6zh4</td>\n",
       "      <td>33</td>\n",
       "      <td>46</td>\n",
       "      <td>588702</td>\n",
       "      <td>unverified</td>\n",
       "      <td>37</td>\n",
       "      <td>Slovene</td>\n",
       "      <td>Papagaj se umiva pod tekočo vodo v lijaku.</td>\n",
       "    </tr>\n",
       "    <tr>\n",
       "      <th>2</th>\n",
       "      <td>mv89psg6zh4</td>\n",
       "      <td>33</td>\n",
       "      <td>46</td>\n",
       "      <td>362812</td>\n",
       "      <td>unverified</td>\n",
       "      <td>11</td>\n",
       "      <td>Macedonian</td>\n",
       "      <td>папагал се бања</td>\n",
       "    </tr>\n",
       "    <tr>\n",
       "      <th>3</th>\n",
       "      <td>mv89psg6zh4</td>\n",
       "      <td>33</td>\n",
       "      <td>46</td>\n",
       "      <td>968828</td>\n",
       "      <td>unverified</td>\n",
       "      <td>84</td>\n",
       "      <td>German</td>\n",
       "      <td>Ein Wellensittich duscht unter einem Wasserhahn.</td>\n",
       "    </tr>\n",
       "    <tr>\n",
       "      <th>4</th>\n",
       "      <td>mv89psg6zh4</td>\n",
       "      <td>33</td>\n",
       "      <td>46</td>\n",
       "      <td>203142</td>\n",
       "      <td>unverified</td>\n",
       "      <td>14</td>\n",
       "      <td>Romanian</td>\n",
       "      <td>o pasare sta intr-o chiuveta.</td>\n",
       "    </tr>\n",
       "  </tbody>\n",
       "</table>\n",
       "</div>"
      ],
      "text/plain": [
       "       VideoID  Start  End  WorkerID      Source  AnnotationTime    Language  \\\n",
       "0  mv89psg6zh4     33   46    588702  unverified              55     Slovene   \n",
       "1  mv89psg6zh4     33   46    588702  unverified              37     Slovene   \n",
       "2  mv89psg6zh4     33   46    362812  unverified              11  Macedonian   \n",
       "3  mv89psg6zh4     33   46    968828  unverified              84      German   \n",
       "4  mv89psg6zh4     33   46    203142  unverified              14    Romanian   \n",
       "\n",
       "                                        Description  \n",
       "0        Papagaj se umiva pod tekočo vodo v lijaku.  \n",
       "1        Papagaj se umiva pod tekočo vodo v lijaku.  \n",
       "2                                   папагал се бања  \n",
       "3  Ein Wellensittich duscht unter einem Wasserhahn.  \n",
       "4                     o pasare sta intr-o chiuveta.  "
      ]
     },
     "execution_count": 2,
     "metadata": {},
     "output_type": "execute_result"
    }
   ],
   "source": [
    "#Import captions\n",
    "df = load_df(\"dataset/msvd_videos/video_corpus.csv\")\n",
    "df.head()"
   ]
  },
  {
   "cell_type": "code",
   "execution_count": 3,
   "metadata": {},
   "outputs": [],
   "source": [
    "data = preprocess_df(df)"
   ]
  },
  {
   "cell_type": "code",
   "execution_count": 4,
   "metadata": {},
   "outputs": [
    {
     "data": {
      "text/html": [
       "<div>\n",
       "<style scoped>\n",
       "    .dataframe tbody tr th:only-of-type {\n",
       "        vertical-align: middle;\n",
       "    }\n",
       "\n",
       "    .dataframe tbody tr th {\n",
       "        vertical-align: top;\n",
       "    }\n",
       "\n",
       "    .dataframe thead th {\n",
       "        text-align: right;\n",
       "    }\n",
       "</style>\n",
       "<table border=\"1\" class=\"dataframe\">\n",
       "  <thead>\n",
       "    <tr style=\"text-align: right;\">\n",
       "      <th></th>\n",
       "      <th>Name</th>\n",
       "      <th>Description</th>\n",
       "    </tr>\n",
       "  </thead>\n",
       "  <tbody>\n",
       "    <tr>\n",
       "      <th>18</th>\n",
       "      <td>mv89psg6zh4_33_46</td>\n",
       "      <td>A bird in a sink keeps getting under the runni...</td>\n",
       "    </tr>\n",
       "    <tr>\n",
       "      <th>19</th>\n",
       "      <td>mv89psg6zh4_33_46</td>\n",
       "      <td>A bird is bathing in a sink.</td>\n",
       "    </tr>\n",
       "    <tr>\n",
       "      <th>20</th>\n",
       "      <td>mv89psg6zh4_33_46</td>\n",
       "      <td>A bird is splashing around under a running fau...</td>\n",
       "    </tr>\n",
       "    <tr>\n",
       "      <th>21</th>\n",
       "      <td>mv89psg6zh4_33_46</td>\n",
       "      <td>A bird is bathing in a sink.</td>\n",
       "    </tr>\n",
       "    <tr>\n",
       "      <th>22</th>\n",
       "      <td>mv89psg6zh4_33_46</td>\n",
       "      <td>A bird is standing in a sink drinking water th...</td>\n",
       "    </tr>\n",
       "  </tbody>\n",
       "</table>\n",
       "</div>"
      ],
      "text/plain": [
       "                 Name                                        Description\n",
       "18  mv89psg6zh4_33_46  A bird in a sink keeps getting under the runni...\n",
       "19  mv89psg6zh4_33_46                       A bird is bathing in a sink.\n",
       "20  mv89psg6zh4_33_46  A bird is splashing around under a running fau...\n",
       "21  mv89psg6zh4_33_46                       A bird is bathing in a sink.\n",
       "22  mv89psg6zh4_33_46  A bird is standing in a sink drinking water th..."
      ]
     },
     "execution_count": 4,
     "metadata": {},
     "output_type": "execute_result"
    }
   ],
   "source": [
    "data.head()"
   ]
  },
  {
   "cell_type": "code",
   "execution_count": 5,
   "metadata": {},
   "outputs": [],
   "source": [
    "videos_final = get_final_list(\"dataset/msvd_videos/msvd_videos\", data)"
   ]
  },
  {
   "cell_type": "code",
   "execution_count": 6,
   "metadata": {},
   "outputs": [
    {
     "data": {
      "text/plain": [
       "1969"
      ]
     },
     "execution_count": 6,
     "metadata": {},
     "output_type": "execute_result"
    }
   ],
   "source": [
    "len(videos_final)"
   ]
  },
  {
   "cell_type": "code",
   "execution_count": 7,
   "metadata": {},
   "outputs": [],
   "source": [
    "#Select single caption for each video\n",
    "captions = {}\n",
    "for index, row in data.iterrows():\n",
    "    if row['Name'] in captions or row['Name'] not in videos_final:\n",
    "        continue\n",
    "    else:\n",
    "        captions[row['Name']] = row['Description']"
   ]
  },
  {
   "cell_type": "code",
   "execution_count": 8,
   "metadata": {},
   "outputs": [],
   "source": [
    "#Not needed\n",
    "#df = pd.DataFrame(captions.items(), columns = ['Name', 'Description'])\n",
    "#df.head()"
   ]
  },
  {
   "cell_type": "code",
   "execution_count": 9,
   "metadata": {},
   "outputs": [],
   "source": [
    "#Perform once\n",
    "#extract_frames(videos_final, 'dataset/msvd_videos/msvd_videos/', 'dataset/msvd_videos/img/')"
   ]
  },
  {
   "cell_type": "code",
   "execution_count": 10,
   "metadata": {},
   "outputs": [
    {
     "data": {
      "text/plain": [
       "1652"
      ]
     },
     "execution_count": 10,
     "metadata": {},
     "output_type": "execute_result"
    }
   ],
   "source": [
    "videos_selected = select_videos(videos_final, 'dataset/msvd_videos/frames/', 15)\n",
    "len(videos_selected)"
   ]
  },
  {
   "cell_type": "code",
   "execution_count": 11,
   "metadata": {},
   "outputs": [
    {
     "data": {
      "text/plain": [
       "1652"
      ]
     },
     "execution_count": 11,
     "metadata": {},
     "output_type": "execute_result"
    }
   ],
   "source": [
    "descriptions = []\n",
    "for vid in videos_selected:\n",
    "    descriptions.append(captions[vid])\n",
    "    \n",
    "len(descriptions)"
   ]
  },
  {
   "cell_type": "markdown",
   "metadata": {},
   "source": [
    "# Extracting features"
   ]
  },
  {
   "cell_type": "code",
   "execution_count": null,
   "metadata": {},
   "outputs": [],
   "source": [
    "#Already done\n",
    "frames_path = 'dataset/msvd_videos/frames/'\n",
    "X = extract_features_inceptionv3(frames_path, videos_selected) #Use this to load X of shape (1652, 15, 2048)"
   ]
  },
  {
   "cell_type": "code",
   "execution_count": null,
   "metadata": {},
   "outputs": [],
   "source": [
    "X.shape"
   ]
  },
  {
   "cell_type": "code",
   "execution_count": null,
   "metadata": {},
   "outputs": [],
   "source": [
    "#Save array\n",
    "from numpy import save\n",
    "save('video_features_resnet50.npy', X)"
   ]
  },
  {
   "cell_type": "code",
   "execution_count": null,
   "metadata": {},
   "outputs": [],
   "source": [
    "# load array\n",
    "from numpy import load\n",
    "data = load('video_features_resnet50.npy')"
   ]
  },
  {
   "cell_type": "code",
   "execution_count": null,
   "metadata": {},
   "outputs": [],
   "source": [
    "data.shape"
   ]
  },
  {
   "cell_type": "code",
   "execution_count": null,
   "metadata": {},
   "outputs": [],
   "source": []
  }
 ],
 "metadata": {
  "kernelspec": {
   "display_name": "Python 3",
   "language": "python",
   "name": "python3"
  },
  "language_info": {
   "codemirror_mode": {
    "name": "ipython",
    "version": 3
   },
   "file_extension": ".py",
   "mimetype": "text/x-python",
   "name": "python",
   "nbconvert_exporter": "python",
   "pygments_lexer": "ipython3",
   "version": "3.7.5"
  }
 },
 "nbformat": 4,
 "nbformat_minor": 2
}
